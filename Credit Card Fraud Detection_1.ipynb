{
 "cells": [
  {
   "cell_type": "markdown",
   "id": "dfbeb9fc",
   "metadata": {},
   "source": [
    "# Understanding the Problem"
   ]
  },
  {
   "cell_type": "markdown",
   "id": "12e391c7",
   "metadata": {},
   "source": [
    "Credit card fraud detection involves identifying fraudulent transactions from a pool of legitimate transactions. The main objective of this project is to find the best model that can detect fraudulent transactions."
   ]
  },
  {
   "cell_type": "markdown",
   "id": "37724160",
   "metadata": {},
   "source": [
    "# Import the libraries"
   ]
  },
  {
   "cell_type": "code",
   "execution_count": 2,
   "id": "09a3ec56",
   "metadata": {},
   "outputs": [],
   "source": [
    "import numpy as np\n",
    "import pandas as pd\n",
    "from sklearn.model_selection import train_test_split"
   ]
  },
  {
   "cell_type": "markdown",
   "id": "88ae1600",
   "metadata": {},
   "source": [
    "# Loading the dataset"
   ]
  },
  {
   "cell_type": "code",
   "execution_count": 3,
   "id": "87703812",
   "metadata": {},
   "outputs": [
    {
     "data": {
      "text/html": [
       "<div>\n",
       "<style scoped>\n",
       "    .dataframe tbody tr th:only-of-type {\n",
       "        vertical-align: middle;\n",
       "    }\n",
       "\n",
       "    .dataframe tbody tr th {\n",
       "        vertical-align: top;\n",
       "    }\n",
       "\n",
       "    .dataframe thead th {\n",
       "        text-align: right;\n",
       "    }\n",
       "</style>\n",
       "<table border=\"1\" class=\"dataframe\">\n",
       "  <thead>\n",
       "    <tr style=\"text-align: right;\">\n",
       "      <th></th>\n",
       "      <th>id</th>\n",
       "      <th>V1</th>\n",
       "      <th>V2</th>\n",
       "      <th>V3</th>\n",
       "      <th>V4</th>\n",
       "      <th>V5</th>\n",
       "      <th>V6</th>\n",
       "      <th>V7</th>\n",
       "      <th>V8</th>\n",
       "      <th>V9</th>\n",
       "      <th>...</th>\n",
       "      <th>V21</th>\n",
       "      <th>V22</th>\n",
       "      <th>V23</th>\n",
       "      <th>V24</th>\n",
       "      <th>V25</th>\n",
       "      <th>V26</th>\n",
       "      <th>V27</th>\n",
       "      <th>V28</th>\n",
       "      <th>Amount</th>\n",
       "      <th>Class</th>\n",
       "    </tr>\n",
       "  </thead>\n",
       "  <tbody>\n",
       "    <tr>\n",
       "      <th>0</th>\n",
       "      <td>0</td>\n",
       "      <td>-0.260648</td>\n",
       "      <td>-0.469648</td>\n",
       "      <td>2.496266</td>\n",
       "      <td>-0.083724</td>\n",
       "      <td>0.129681</td>\n",
       "      <td>0.732898</td>\n",
       "      <td>0.519014</td>\n",
       "      <td>-0.130006</td>\n",
       "      <td>0.727159</td>\n",
       "      <td>...</td>\n",
       "      <td>-0.110552</td>\n",
       "      <td>0.217606</td>\n",
       "      <td>-0.134794</td>\n",
       "      <td>0.165959</td>\n",
       "      <td>0.126280</td>\n",
       "      <td>-0.434824</td>\n",
       "      <td>-0.081230</td>\n",
       "      <td>-0.151045</td>\n",
       "      <td>17982.10</td>\n",
       "      <td>0</td>\n",
       "    </tr>\n",
       "    <tr>\n",
       "      <th>1</th>\n",
       "      <td>1</td>\n",
       "      <td>0.985100</td>\n",
       "      <td>-0.356045</td>\n",
       "      <td>0.558056</td>\n",
       "      <td>-0.429654</td>\n",
       "      <td>0.277140</td>\n",
       "      <td>0.428605</td>\n",
       "      <td>0.406466</td>\n",
       "      <td>-0.133118</td>\n",
       "      <td>0.347452</td>\n",
       "      <td>...</td>\n",
       "      <td>-0.194936</td>\n",
       "      <td>-0.605761</td>\n",
       "      <td>0.079469</td>\n",
       "      <td>-0.577395</td>\n",
       "      <td>0.190090</td>\n",
       "      <td>0.296503</td>\n",
       "      <td>-0.248052</td>\n",
       "      <td>-0.064512</td>\n",
       "      <td>6531.37</td>\n",
       "      <td>0</td>\n",
       "    </tr>\n",
       "    <tr>\n",
       "      <th>2</th>\n",
       "      <td>2</td>\n",
       "      <td>-0.260272</td>\n",
       "      <td>-0.949385</td>\n",
       "      <td>1.728538</td>\n",
       "      <td>-0.457986</td>\n",
       "      <td>0.074062</td>\n",
       "      <td>1.419481</td>\n",
       "      <td>0.743511</td>\n",
       "      <td>-0.095576</td>\n",
       "      <td>-0.261297</td>\n",
       "      <td>...</td>\n",
       "      <td>-0.005020</td>\n",
       "      <td>0.702906</td>\n",
       "      <td>0.945045</td>\n",
       "      <td>-1.154666</td>\n",
       "      <td>-0.605564</td>\n",
       "      <td>-0.312895</td>\n",
       "      <td>-0.300258</td>\n",
       "      <td>-0.244718</td>\n",
       "      <td>2513.54</td>\n",
       "      <td>0</td>\n",
       "    </tr>\n",
       "    <tr>\n",
       "      <th>3</th>\n",
       "      <td>3</td>\n",
       "      <td>-0.152152</td>\n",
       "      <td>-0.508959</td>\n",
       "      <td>1.746840</td>\n",
       "      <td>-1.090178</td>\n",
       "      <td>0.249486</td>\n",
       "      <td>1.143312</td>\n",
       "      <td>0.518269</td>\n",
       "      <td>-0.065130</td>\n",
       "      <td>-0.205698</td>\n",
       "      <td>...</td>\n",
       "      <td>-0.146927</td>\n",
       "      <td>-0.038212</td>\n",
       "      <td>-0.214048</td>\n",
       "      <td>-1.893131</td>\n",
       "      <td>1.003963</td>\n",
       "      <td>-0.515950</td>\n",
       "      <td>-0.165316</td>\n",
       "      <td>0.048424</td>\n",
       "      <td>5384.44</td>\n",
       "      <td>0</td>\n",
       "    </tr>\n",
       "    <tr>\n",
       "      <th>4</th>\n",
       "      <td>4</td>\n",
       "      <td>-0.206820</td>\n",
       "      <td>-0.165280</td>\n",
       "      <td>1.527053</td>\n",
       "      <td>-0.448293</td>\n",
       "      <td>0.106125</td>\n",
       "      <td>0.530549</td>\n",
       "      <td>0.658849</td>\n",
       "      <td>-0.212660</td>\n",
       "      <td>1.049921</td>\n",
       "      <td>...</td>\n",
       "      <td>-0.106984</td>\n",
       "      <td>0.729727</td>\n",
       "      <td>-0.161666</td>\n",
       "      <td>0.312561</td>\n",
       "      <td>-0.414116</td>\n",
       "      <td>1.071126</td>\n",
       "      <td>0.023712</td>\n",
       "      <td>0.419117</td>\n",
       "      <td>14278.97</td>\n",
       "      <td>0</td>\n",
       "    </tr>\n",
       "  </tbody>\n",
       "</table>\n",
       "<p>5 rows × 31 columns</p>\n",
       "</div>"
      ],
      "text/plain": [
       "   id        V1        V2        V3        V4        V5        V6        V7  \\\n",
       "0   0 -0.260648 -0.469648  2.496266 -0.083724  0.129681  0.732898  0.519014   \n",
       "1   1  0.985100 -0.356045  0.558056 -0.429654  0.277140  0.428605  0.406466   \n",
       "2   2 -0.260272 -0.949385  1.728538 -0.457986  0.074062  1.419481  0.743511   \n",
       "3   3 -0.152152 -0.508959  1.746840 -1.090178  0.249486  1.143312  0.518269   \n",
       "4   4 -0.206820 -0.165280  1.527053 -0.448293  0.106125  0.530549  0.658849   \n",
       "\n",
       "         V8        V9  ...       V21       V22       V23       V24       V25  \\\n",
       "0 -0.130006  0.727159  ... -0.110552  0.217606 -0.134794  0.165959  0.126280   \n",
       "1 -0.133118  0.347452  ... -0.194936 -0.605761  0.079469 -0.577395  0.190090   \n",
       "2 -0.095576 -0.261297  ... -0.005020  0.702906  0.945045 -1.154666 -0.605564   \n",
       "3 -0.065130 -0.205698  ... -0.146927 -0.038212 -0.214048 -1.893131  1.003963   \n",
       "4 -0.212660  1.049921  ... -0.106984  0.729727 -0.161666  0.312561 -0.414116   \n",
       "\n",
       "        V26       V27       V28    Amount  Class  \n",
       "0 -0.434824 -0.081230 -0.151045  17982.10      0  \n",
       "1  0.296503 -0.248052 -0.064512   6531.37      0  \n",
       "2 -0.312895 -0.300258 -0.244718   2513.54      0  \n",
       "3 -0.515950 -0.165316  0.048424   5384.44      0  \n",
       "4  1.071126  0.023712  0.419117  14278.97      0  \n",
       "\n",
       "[5 rows x 31 columns]"
      ]
     },
     "execution_count": 3,
     "metadata": {},
     "output_type": "execute_result"
    }
   ],
   "source": [
    "data = pd.read_csv('C:/Users/Dell/Documents/archive/creditcard_2023.csv')\n",
    "data.head()"
   ]
  },
  {
   "cell_type": "markdown",
   "id": "d655022f",
   "metadata": {},
   "source": [
    "# Understanding the dataset\n",
    "\n",
    "id: Unique identifier for each transaction\n",
    "\n",
    "V1-V28: Anonymized features representing various transaction attributes (e.g., time, location, etc.)\n",
    "\n",
    "Amount: The transaction amount\n",
    "\n",
    "Class: Binary label indicating whether the transaction is fraudulent (1) or not (0)"
   ]
  },
  {
   "cell_type": "markdown",
   "id": "909a9076",
   "metadata": {},
   "source": [
    "# Dataset information and its structure"
   ]
  },
  {
   "cell_type": "code",
   "execution_count": 4,
   "id": "2f0f2fa1",
   "metadata": {},
   "outputs": [
    {
     "name": "stdout",
     "output_type": "stream",
     "text": [
      "<class 'pandas.core.frame.DataFrame'>\n",
      "RangeIndex: 568630 entries, 0 to 568629\n",
      "Data columns (total 31 columns):\n",
      " #   Column  Non-Null Count   Dtype  \n",
      "---  ------  --------------   -----  \n",
      " 0   id      568630 non-null  int64  \n",
      " 1   V1      568630 non-null  float64\n",
      " 2   V2      568630 non-null  float64\n",
      " 3   V3      568630 non-null  float64\n",
      " 4   V4      568630 non-null  float64\n",
      " 5   V5      568630 non-null  float64\n",
      " 6   V6      568630 non-null  float64\n",
      " 7   V7      568630 non-null  float64\n",
      " 8   V8      568630 non-null  float64\n",
      " 9   V9      568630 non-null  float64\n",
      " 10  V10     568630 non-null  float64\n",
      " 11  V11     568630 non-null  float64\n",
      " 12  V12     568630 non-null  float64\n",
      " 13  V13     568630 non-null  float64\n",
      " 14  V14     568630 non-null  float64\n",
      " 15  V15     568630 non-null  float64\n",
      " 16  V16     568630 non-null  float64\n",
      " 17  V17     568630 non-null  float64\n",
      " 18  V18     568630 non-null  float64\n",
      " 19  V19     568630 non-null  float64\n",
      " 20  V20     568630 non-null  float64\n",
      " 21  V21     568630 non-null  float64\n",
      " 22  V22     568630 non-null  float64\n",
      " 23  V23     568630 non-null  float64\n",
      " 24  V24     568630 non-null  float64\n",
      " 25  V25     568630 non-null  float64\n",
      " 26  V26     568630 non-null  float64\n",
      " 27  V27     568630 non-null  float64\n",
      " 28  V28     568630 non-null  float64\n",
      " 29  Amount  568630 non-null  float64\n",
      " 30  Class   568630 non-null  int64  \n",
      "dtypes: float64(29), int64(2)\n",
      "memory usage: 134.5 MB\n"
     ]
    }
   ],
   "source": [
    "data.info()"
   ]
  },
  {
   "cell_type": "code",
   "execution_count": 5,
   "id": "27f504af",
   "metadata": {},
   "outputs": [
    {
     "name": "stdout",
     "output_type": "stream",
     "text": [
      "(568630, 31)\n",
      "                  id            V1            V2            V3            V4  \\\n",
      "count  568630.000000  5.686300e+05  5.686300e+05  5.686300e+05  5.686300e+05   \n",
      "mean   284314.500000 -5.638058e-17 -1.319545e-16 -3.518788e-17 -2.879008e-17   \n",
      "std    164149.486121  1.000001e+00  1.000001e+00  1.000001e+00  1.000001e+00   \n",
      "min         0.000000 -3.495584e+00 -4.996657e+01 -3.183760e+00 -4.951222e+00   \n",
      "25%    142157.250000 -5.652859e-01 -4.866777e-01 -6.492987e-01 -6.560203e-01   \n",
      "50%    284314.500000 -9.363846e-02 -1.358939e-01  3.528579e-04 -7.376152e-02   \n",
      "75%    426471.750000  8.326582e-01  3.435552e-01  6.285380e-01  7.070047e-01   \n",
      "max    568629.000000  2.229046e+00  4.361865e+00  1.412583e+01  3.201536e+00   \n",
      "\n",
      "                 V5            V6            V7            V8            V9  \\\n",
      "count  5.686300e+05  5.686300e+05  5.686300e+05  5.686300e+05  5.686300e+05   \n",
      "mean   7.997245e-18 -3.958636e-17 -3.198898e-17  2.109273e-17  3.998623e-17   \n",
      "std    1.000001e+00  1.000001e+00  1.000001e+00  1.000001e+00  1.000001e+00   \n",
      "min   -9.952786e+00 -2.111111e+01 -4.351839e+00 -1.075634e+01 -3.751919e+00   \n",
      "25%   -2.934955e-01 -4.458712e-01 -2.835329e-01 -1.922572e-01 -5.687446e-01   \n",
      "50%    8.108788e-02  7.871758e-02  2.333659e-01 -1.145242e-01  9.252647e-02   \n",
      "75%    4.397368e-01  4.977881e-01  5.259548e-01  4.729905e-02  5.592621e-01   \n",
      "max    4.271689e+01  2.616840e+01  2.178730e+02  5.958040e+00  2.027006e+01   \n",
      "\n",
      "       ...           V21           V22           V23           V24  \\\n",
      "count  ...  5.686300e+05  5.686300e+05  5.686300e+05  5.686300e+05   \n",
      "mean   ...  4.758361e-17  3.948640e-18  6.194741e-18 -2.799036e-18   \n",
      "std    ...  1.000001e+00  1.000001e+00  1.000001e+00  1.000001e+00   \n",
      "min    ... -1.938252e+01 -7.734798e+00 -3.029545e+01 -4.067968e+00   \n",
      "25%    ... -1.664408e-01 -4.904892e-01 -2.376289e-01 -6.515801e-01   \n",
      "50%    ... -3.743065e-02 -2.732881e-02 -5.968903e-02  1.590123e-02   \n",
      "75%    ...  1.479787e-01  4.638817e-01  1.557153e-01  7.007374e-01   \n",
      "max    ...  8.087080e+00  1.263251e+01  3.170763e+01  1.296564e+01   \n",
      "\n",
      "                V25           V26           V27           V28         Amount  \\\n",
      "count  5.686300e+05  5.686300e+05  5.686300e+05  5.686300e+05  568630.000000   \n",
      "mean  -3.178905e-17 -7.497417e-18 -3.598760e-17  2.609101e-17   12041.957635   \n",
      "std    1.000001e+00  1.000001e+00  1.000001e+00  1.000001e+00    6919.644449   \n",
      "min   -1.361263e+01 -8.226969e+00 -1.049863e+01 -3.903524e+01      50.010000   \n",
      "25%   -5.541485e-01 -6.318948e-01 -3.049607e-01 -2.318783e-01    6054.892500   \n",
      "50%   -8.193162e-03 -1.189208e-02 -1.729111e-01 -1.392973e-02   12030.150000   \n",
      "75%    5.500147e-01  6.728879e-01  3.340230e-01  4.095903e-01   18036.330000   \n",
      "max    1.462151e+01  5.623285e+00  1.132311e+02  7.725594e+01   24039.930000   \n",
      "\n",
      "          Class  \n",
      "count  568630.0  \n",
      "mean        0.5  \n",
      "std         0.5  \n",
      "min         0.0  \n",
      "25%         0.0  \n",
      "50%         0.5  \n",
      "75%         1.0  \n",
      "max         1.0  \n",
      "\n",
      "[8 rows x 31 columns]\n"
     ]
    }
   ],
   "source": [
    "print(data.shape)\n",
    "print(data.describe())"
   ]
  },
  {
   "cell_type": "markdown",
   "id": "402cea43",
   "metadata": {},
   "source": [
    "# Check for missing values in each column"
   ]
  },
  {
   "cell_type": "code",
   "execution_count": 6,
   "id": "2b955782",
   "metadata": {},
   "outputs": [
    {
     "data": {
      "text/plain": [
       "id        0\n",
       "V1        0\n",
       "V2        0\n",
       "V3        0\n",
       "V4        0\n",
       "V5        0\n",
       "V6        0\n",
       "V7        0\n",
       "V8        0\n",
       "V9        0\n",
       "V10       0\n",
       "V11       0\n",
       "V12       0\n",
       "V13       0\n",
       "V14       0\n",
       "V15       0\n",
       "V16       0\n",
       "V17       0\n",
       "V18       0\n",
       "V19       0\n",
       "V20       0\n",
       "V21       0\n",
       "V22       0\n",
       "V23       0\n",
       "V24       0\n",
       "V25       0\n",
       "V26       0\n",
       "V27       0\n",
       "V28       0\n",
       "Amount    0\n",
       "Class     0\n",
       "dtype: int64"
      ]
     },
     "execution_count": 6,
     "metadata": {},
     "output_type": "execute_result"
    }
   ],
   "source": [
    "data.isnull().sum()"
   ]
  },
  {
   "cell_type": "markdown",
   "id": "b5105a64",
   "metadata": {},
   "source": [
    "# Distribution of legit and fraudulent transaction"
   ]
  },
  {
   "cell_type": "code",
   "execution_count": 7,
   "id": "a580b7ad",
   "metadata": {},
   "outputs": [
    {
     "data": {
      "text/plain": [
       "Class\n",
       "0    284315\n",
       "1    284315\n",
       "Name: count, dtype: int64"
      ]
     },
     "execution_count": 7,
     "metadata": {},
     "output_type": "execute_result"
    }
   ],
   "source": [
    "data['Class'].value_counts()"
   ]
  },
  {
   "cell_type": "markdown",
   "id": "9f13b792",
   "metadata": {},
   "source": [
    "This dataset is balanced\n",
    "\n",
    "0---> Normal transaction\n",
    "\n",
    "1---> Fraudulent transaction"
   ]
  },
  {
   "cell_type": "code",
   "execution_count": 8,
   "id": "0e394de5",
   "metadata": {},
   "outputs": [],
   "source": [
    "fraud = data[data['Class'] == 1]\n",
    "valid = data[data['Class'] == 0]"
   ]
  },
  {
   "cell_type": "code",
   "execution_count": 9,
   "id": "48b0ae46",
   "metadata": {},
   "outputs": [
    {
     "name": "stdout",
     "output_type": "stream",
     "text": [
      "(284315, 31)\n",
      "(284315, 31)\n"
     ]
    }
   ],
   "source": [
    "print(fraud.shape)\n",
    "print(valid.shape)"
   ]
  },
  {
   "cell_type": "markdown",
   "id": "9acf5282",
   "metadata": {},
   "source": [
    "# Statistical measures of data"
   ]
  },
  {
   "cell_type": "code",
   "execution_count": 10,
   "id": "bb73dedc",
   "metadata": {},
   "outputs": [
    {
     "name": "stdout",
     "output_type": "stream",
     "text": [
      "Details of the fraudulent transaction\n"
     ]
    },
    {
     "data": {
      "text/plain": [
       "count    284315.000000\n",
       "mean      12057.601763\n",
       "std        6909.750891\n",
       "min          50.010000\n",
       "25%        6074.640000\n",
       "50%       12062.450000\n",
       "75%       18033.780000\n",
       "max       24039.930000\n",
       "Name: Amount, dtype: float64"
      ]
     },
     "execution_count": 10,
     "metadata": {},
     "output_type": "execute_result"
    }
   ],
   "source": [
    "print(\"Details of the fraudulent transaction\")\n",
    "fraud.Amount.describe()"
   ]
  },
  {
   "cell_type": "code",
   "execution_count": 11,
   "id": "f5fcac51",
   "metadata": {},
   "outputs": [
    {
     "name": "stdout",
     "output_type": "stream",
     "text": [
      "Details of valid transaction\n"
     ]
    },
    {
     "data": {
      "text/plain": [
       "count    284315.000000\n",
       "mean      12026.313506\n",
       "std        6929.500715\n",
       "min          50.120000\n",
       "25%        6034.540000\n",
       "50%       11996.900000\n",
       "75%       18040.265000\n",
       "max       24039.930000\n",
       "Name: Amount, dtype: float64"
      ]
     },
     "execution_count": 11,
     "metadata": {},
     "output_type": "execute_result"
    }
   ],
   "source": [
    "print(\"Details of valid transaction\")\n",
    "valid.Amount.describe()"
   ]
  },
  {
   "cell_type": "markdown",
   "id": "490680c9",
   "metadata": {},
   "source": [
    "# Compare the values for both transactions"
   ]
  },
  {
   "cell_type": "code",
   "execution_count": 12,
   "id": "323de397",
   "metadata": {},
   "outputs": [
    {
     "data": {
      "text/html": [
       "<div>\n",
       "<style scoped>\n",
       "    .dataframe tbody tr th:only-of-type {\n",
       "        vertical-align: middle;\n",
       "    }\n",
       "\n",
       "    .dataframe tbody tr th {\n",
       "        vertical-align: top;\n",
       "    }\n",
       "\n",
       "    .dataframe thead th {\n",
       "        text-align: right;\n",
       "    }\n",
       "</style>\n",
       "<table border=\"1\" class=\"dataframe\">\n",
       "  <thead>\n",
       "    <tr style=\"text-align: right;\">\n",
       "      <th></th>\n",
       "      <th>id</th>\n",
       "      <th>V1</th>\n",
       "      <th>V2</th>\n",
       "      <th>V3</th>\n",
       "      <th>V4</th>\n",
       "      <th>V5</th>\n",
       "      <th>V6</th>\n",
       "      <th>V7</th>\n",
       "      <th>V8</th>\n",
       "      <th>V9</th>\n",
       "      <th>...</th>\n",
       "      <th>V20</th>\n",
       "      <th>V21</th>\n",
       "      <th>V22</th>\n",
       "      <th>V23</th>\n",
       "      <th>V24</th>\n",
       "      <th>V25</th>\n",
       "      <th>V26</th>\n",
       "      <th>V27</th>\n",
       "      <th>V28</th>\n",
       "      <th>Amount</th>\n",
       "    </tr>\n",
       "    <tr>\n",
       "      <th>Class</th>\n",
       "      <th></th>\n",
       "      <th></th>\n",
       "      <th></th>\n",
       "      <th></th>\n",
       "      <th></th>\n",
       "      <th></th>\n",
       "      <th></th>\n",
       "      <th></th>\n",
       "      <th></th>\n",
       "      <th></th>\n",
       "      <th></th>\n",
       "      <th></th>\n",
       "      <th></th>\n",
       "      <th></th>\n",
       "      <th></th>\n",
       "      <th></th>\n",
       "      <th></th>\n",
       "      <th></th>\n",
       "      <th></th>\n",
       "      <th></th>\n",
       "      <th></th>\n",
       "    </tr>\n",
       "  </thead>\n",
       "  <tbody>\n",
       "    <tr>\n",
       "      <th>0</th>\n",
       "      <td>142442.987714</td>\n",
       "      <td>0.505761</td>\n",
       "      <td>-0.491878</td>\n",
       "      <td>0.682095</td>\n",
       "      <td>-0.735981</td>\n",
       "      <td>0.338639</td>\n",
       "      <td>0.435088</td>\n",
       "      <td>0.491234</td>\n",
       "      <td>-0.144294</td>\n",
       "      <td>0.585522</td>\n",
       "      <td>...</td>\n",
       "      <td>-0.179851</td>\n",
       "      <td>-0.10964</td>\n",
       "      <td>-0.014098</td>\n",
       "      <td>-0.010255</td>\n",
       "      <td>0.130107</td>\n",
       "      <td>-0.061847</td>\n",
       "      <td>-0.071052</td>\n",
       "      <td>-0.214002</td>\n",
       "      <td>-0.102024</td>\n",
       "      <td>12026.313506</td>\n",
       "    </tr>\n",
       "    <tr>\n",
       "      <th>1</th>\n",
       "      <td>426186.012286</td>\n",
       "      <td>-0.505761</td>\n",
       "      <td>0.491878</td>\n",
       "      <td>-0.682095</td>\n",
       "      <td>0.735981</td>\n",
       "      <td>-0.338639</td>\n",
       "      <td>-0.435088</td>\n",
       "      <td>-0.491234</td>\n",
       "      <td>0.144294</td>\n",
       "      <td>-0.585522</td>\n",
       "      <td>...</td>\n",
       "      <td>0.179851</td>\n",
       "      <td>0.10964</td>\n",
       "      <td>0.014098</td>\n",
       "      <td>0.010255</td>\n",
       "      <td>-0.130107</td>\n",
       "      <td>0.061847</td>\n",
       "      <td>0.071052</td>\n",
       "      <td>0.214002</td>\n",
       "      <td>0.102024</td>\n",
       "      <td>12057.601763</td>\n",
       "    </tr>\n",
       "  </tbody>\n",
       "</table>\n",
       "<p>2 rows × 30 columns</p>\n",
       "</div>"
      ],
      "text/plain": [
       "                  id        V1        V2        V3        V4        V5  \\\n",
       "Class                                                                    \n",
       "0      142442.987714  0.505761 -0.491878  0.682095 -0.735981  0.338639   \n",
       "1      426186.012286 -0.505761  0.491878 -0.682095  0.735981 -0.338639   \n",
       "\n",
       "             V6        V7        V8        V9  ...       V20      V21  \\\n",
       "Class                                          ...                      \n",
       "0      0.435088  0.491234 -0.144294  0.585522  ... -0.179851 -0.10964   \n",
       "1     -0.435088 -0.491234  0.144294 -0.585522  ...  0.179851  0.10964   \n",
       "\n",
       "            V22       V23       V24       V25       V26       V27       V28  \\\n",
       "Class                                                                         \n",
       "0     -0.014098 -0.010255  0.130107 -0.061847 -0.071052 -0.214002 -0.102024   \n",
       "1      0.014098  0.010255 -0.130107  0.061847  0.071052  0.214002  0.102024   \n",
       "\n",
       "             Amount  \n",
       "Class                \n",
       "0      12026.313506  \n",
       "1      12057.601763  \n",
       "\n",
       "[2 rows x 30 columns]"
      ]
     },
     "execution_count": 12,
     "metadata": {},
     "output_type": "execute_result"
    }
   ],
   "source": [
    "data.groupby('Class').mean()"
   ]
  },
  {
   "cell_type": "markdown",
   "id": "94a861ce",
   "metadata": {},
   "source": [
    "# Split the data into features and targets"
   ]
  },
  {
   "cell_type": "code",
   "execution_count": 13,
   "id": "c3d5c85f",
   "metadata": {},
   "outputs": [],
   "source": [
    "x=data.drop(columns= 'Class', axis=1)\n",
    "y=data['Class']"
   ]
  },
  {
   "cell_type": "code",
   "execution_count": 14,
   "id": "489aa6fa",
   "metadata": {},
   "outputs": [
    {
     "name": "stdout",
     "output_type": "stream",
     "text": [
      "            id        V1        V2        V3        V4        V5        V6  \\\n",
      "0            0 -0.260648 -0.469648  2.496266 -0.083724  0.129681  0.732898   \n",
      "1            1  0.985100 -0.356045  0.558056 -0.429654  0.277140  0.428605   \n",
      "2            2 -0.260272 -0.949385  1.728538 -0.457986  0.074062  1.419481   \n",
      "3            3 -0.152152 -0.508959  1.746840 -1.090178  0.249486  1.143312   \n",
      "4            4 -0.206820 -0.165280  1.527053 -0.448293  0.106125  0.530549   \n",
      "...        ...       ...       ...       ...       ...       ...       ...   \n",
      "568625  568625 -0.833437  0.061886 -0.899794  0.904227 -1.002401  0.481454   \n",
      "568626  568626 -0.670459 -0.202896 -0.068129 -0.267328 -0.133660  0.237148   \n",
      "568627  568627 -0.311997 -0.004095  0.137526 -0.035893 -0.042291  0.121098   \n",
      "568628  568628  0.636871 -0.516970 -0.300889 -0.144480  0.131042 -0.294148   \n",
      "568629  568629 -0.795144  0.433236 -0.649140  0.374732 -0.244976 -0.603493   \n",
      "\n",
      "              V7        V8        V9  ...       V20       V21       V22  \\\n",
      "0       0.519014 -0.130006  0.727159  ...  0.091202 -0.110552  0.217606   \n",
      "1       0.406466 -0.133118  0.347452  ... -0.233984 -0.194936 -0.605761   \n",
      "2       0.743511 -0.095576 -0.261297  ...  0.361652 -0.005020  0.702906   \n",
      "3       0.518269 -0.065130 -0.205698  ... -0.378223 -0.146927 -0.038212   \n",
      "4       0.658849 -0.212660  1.049921  ...  0.247237 -0.106984  0.729727   \n",
      "...          ...       ...       ...  ...       ...       ...       ...   \n",
      "568625 -0.370393  0.189694 -0.938153  ... -0.751011  0.167503  0.419731   \n",
      "568626 -0.016935 -0.147733  0.483894  ... -0.550260  0.031874  0.388161   \n",
      "568627 -0.070958 -0.019997 -0.122048  ... -0.076417  0.140788  0.536523   \n",
      "568628  0.580568 -0.207723  0.893527  ...  0.288186 -0.060381 -0.195609   \n",
      "568629 -0.347613 -0.340814  0.253971  ... -0.621378  0.534853 -0.291514   \n",
      "\n",
      "             V23       V24       V25       V26       V27       V28    Amount  \n",
      "0      -0.134794  0.165959  0.126280 -0.434824 -0.081230 -0.151045  17982.10  \n",
      "1       0.079469 -0.577395  0.190090  0.296503 -0.248052 -0.064512   6531.37  \n",
      "2       0.945045 -1.154666 -0.605564 -0.312895 -0.300258 -0.244718   2513.54  \n",
      "3      -0.214048 -1.893131  1.003963 -0.515950 -0.165316  0.048424   5384.44  \n",
      "4      -0.161666  0.312561 -0.414116  1.071126  0.023712  0.419117  14278.97  \n",
      "...          ...       ...       ...       ...       ...       ...       ...  \n",
      "568625  1.288249 -0.900861  0.560661 -0.006018  3.308968  0.081564   4394.16  \n",
      "568626 -0.154257 -0.846452 -0.153443  1.961398 -1.528642  1.704306   4653.40  \n",
      "568627 -0.211100 -0.448909  0.540073 -0.755836 -0.487540 -0.268741  23572.85  \n",
      "568628 -0.175488 -0.554643 -0.099669 -1.434931 -0.159269 -0.076251  10160.83  \n",
      "568629  0.157303  0.931030 -0.349423 -1.090974 -1.575113  0.722936  21493.92  \n",
      "\n",
      "[568630 rows x 30 columns]\n"
     ]
    }
   ],
   "source": [
    "print(x)"
   ]
  },
  {
   "cell_type": "code",
   "execution_count": 15,
   "id": "a0413c89",
   "metadata": {},
   "outputs": [
    {
     "name": "stdout",
     "output_type": "stream",
     "text": [
      "0         0\n",
      "1         0\n",
      "2         0\n",
      "3         0\n",
      "4         0\n",
      "         ..\n",
      "568625    1\n",
      "568626    1\n",
      "568627    1\n",
      "568628    1\n",
      "568629    1\n",
      "Name: Class, Length: 568630, dtype: int64\n"
     ]
    }
   ],
   "source": [
    "print(y)"
   ]
  },
  {
   "cell_type": "markdown",
   "id": "12a05e35",
   "metadata": {},
   "source": [
    "# Split the data into training data and testing data"
   ]
  },
  {
   "cell_type": "code",
   "execution_count": 16,
   "id": "788ce112",
   "metadata": {},
   "outputs": [],
   "source": [
    "xTrain, xTest, yTrain, yTest = train_test_split(x, y, test_size = 0.2, stratify=y, random_state = 2)"
   ]
  },
  {
   "cell_type": "code",
   "execution_count": 17,
   "id": "0b1f4d9d",
   "metadata": {},
   "outputs": [
    {
     "name": "stdout",
     "output_type": "stream",
     "text": [
      "(568630, 30) (454904, 30) (113726, 30)\n"
     ]
    }
   ],
   "source": [
    "print(x.shape,xTrain.shape,xTest.shape)"
   ]
  },
  {
   "cell_type": "markdown",
   "id": "06ff6c45",
   "metadata": {},
   "source": [
    "# Logistic Regression\n",
    "\n",
    "Model training and evaluation"
   ]
  },
  {
   "cell_type": "code",
   "execution_count": 18,
   "id": "b27e5286",
   "metadata": {},
   "outputs": [
    {
     "name": "stdout",
     "output_type": "stream",
     "text": [
      "Training Accuracy (Logistic Regression): 0.791257056433885\n",
      "Testing Accuracy (Logistic Regression): 0.7913317974781492\n"
     ]
    }
   ],
   "source": [
    "from sklearn.linear_model import LogisticRegression\n",
    "from sklearn.metrics import accuracy_score\n",
    "\n",
    "lr_model =LogisticRegression()\n",
    "lr_model.fit(xTrain, yTrain)\n",
    "\n",
    "xTrain_pred=lr_model.predict(xTrain)\n",
    "training_accuracy_lr=accuracy_score(xTrain_pred, yTrain)\n",
    "\n",
    "print(\"Training Accuracy (Logistic Regression):\", training_accuracy_lr)\n",
    "\n",
    "xTest_pred=lr_model.predict(xTest)\n",
    "testing_accuracy_lr=accuracy_score(xTest_pred, yTest)\n",
    "\n",
    "print(\"Testing Accuracy (Logistic Regression):\", testing_accuracy_lr)"
   ]
  },
  {
   "cell_type": "markdown",
   "id": "c11c9d5e",
   "metadata": {},
   "source": [
    "# Random Forest Classifier\n",
    "\n",
    "Model training and evaluation"
   ]
  },
  {
   "cell_type": "code",
   "execution_count": 19,
   "id": "a389a06f",
   "metadata": {},
   "outputs": [
    {
     "name": "stdout",
     "output_type": "stream",
     "text": [
      "Training Accuracy (Random Forest Classifier): 0.9998285352513937\n",
      "Testing Accuracy (Random Forest Classifier): 0.9997098288869739\n"
     ]
    }
   ],
   "source": [
    "from sklearn.ensemble import RandomForestClassifier\n",
    "from sklearn.metrics import accuracy_score\n",
    "rf_model = RandomForestClassifier(n_estimators=50, max_depth=10, random_state=42, n_jobs=-1)\n",
    "rf_model.fit(xTrain, yTrain)\n",
    "\n",
    "\n",
    "xTrain_pred=rf_model.predict(xTrain)\n",
    "training_accuracy_rf=accuracy_score(xTrain_pred, yTrain)\n",
    "\n",
    "print(\"Training Accuracy (Random Forest Classifier):\", training_accuracy_rf)\n",
    "\n",
    "xTest_pred=rf_model.predict(xTest)\n",
    "testing_accuracy_rf=accuracy_score(xTest_pred, yTest)\n",
    "\n",
    "print(\"Testing Accuracy (Random Forest Classifier):\", testing_accuracy_rf)\n"
   ]
  },
  {
   "cell_type": "markdown",
   "id": "8fa0dc0d",
   "metadata": {},
   "source": [
    "# Decision Tree Classifier\n",
    "\n",
    "Model training and evaluation"
   ]
  },
  {
   "cell_type": "code",
   "execution_count": 20,
   "id": "cd8496bb",
   "metadata": {},
   "outputs": [
    {
     "name": "stdout",
     "output_type": "stream",
     "text": [
      "Training Accuracy (Decision Tree Classifier): 0.9997955612612771\n",
      "Testing Accuracy (Decision Tree Classifier): 0.9996746566308495\n"
     ]
    }
   ],
   "source": [
    "from sklearn.tree import DecisionTreeClassifier\n",
    "from sklearn.metrics import accuracy_score\n",
    "\n",
    "dt_model = DecisionTreeClassifier(max_depth=10, min_samples_split=10, min_samples_leaf=5, random_state=42)\n",
    "dt_model.fit(xTrain, yTrain)\n",
    "\n",
    "xTrain_pred=dt_model.predict(xTrain)\n",
    "training_accuracy_dt=accuracy_score(xTrain_pred, yTrain)\n",
    "\n",
    "print(\"Training Accuracy (Decision Tree Classifier):\", training_accuracy_dt)\n",
    "\n",
    "xTest_pred=dt_model.predict(xTest)\n",
    "testing_accuracy_dt=accuracy_score(xTest_pred, yTest)\n",
    "\n",
    "print(\"Testing Accuracy (Decision Tree Classifier):\", testing_accuracy_dt)\n",
    "\n"
   ]
  },
  {
   "cell_type": "markdown",
   "id": "55867a69",
   "metadata": {},
   "source": [
    "# Naive Bayes"
   ]
  },
  {
   "cell_type": "code",
   "execution_count": 21,
   "id": "4599df96",
   "metadata": {},
   "outputs": [
    {
     "name": "stdout",
     "output_type": "stream",
     "text": [
      "Training Accuracy (Naive Bayes): 0.9944911453845207\n",
      "Testing Accuracy (Naive Bayes): 0.9945219211086295\n"
     ]
    }
   ],
   "source": [
    "from sklearn.naive_bayes import GaussianNB\n",
    "from sklearn.metrics import accuracy_score\n",
    "\n",
    "nb_model = GaussianNB()\n",
    "nb_model.fit(xTrain, yTrain)\n",
    "\n",
    "\n",
    "xTrain_pred_nb = nb_model.predict(xTrain)\n",
    "training_accuracy_nb = accuracy_score(yTrain, xTrain_pred_nb)\n",
    "print(\"Training Accuracy (Naive Bayes):\", training_accuracy_nb)\n",
    "\n",
    "\n",
    "xTest_pred_nb = nb_model.predict(xTest)\n",
    "testing_accuracy_nb = accuracy_score(yTest, xTest_pred_nb)\n",
    "print(\"Testing Accuracy (Naive Bayes):\", testing_accuracy_nb)\n"
   ]
  },
  {
   "cell_type": "markdown",
   "id": "c2f55619",
   "metadata": {},
   "source": [
    "# Accuracy Comparison of Different Models\n"
   ]
  },
  {
   "cell_type": "code",
   "execution_count": 22,
   "id": "77d07bc1",
   "metadata": {},
   "outputs": [
    {
     "data": {
      "image/png": "[encoded data removed]",
      "text/plain": [
       "<Figure size 640x480 with 1 Axes>"
      ]
     },
     "metadata": {},
     "output_type": "display_data"
    }
   ],
   "source": [
    "import numpy as np\n",
    "import matplotlib.pyplot as plt\n",
    "\n",
    "labels = ['Logistic Regression', 'Random Forest', 'Decision Tree','Naive Bayes']\n",
    "training_accuracy = [training_accuracy_lr, training_accuracy_rf, training_accuracy_dt, training_accuracy_nb]\n",
    "testing_accuracy = [testing_accuracy_lr, testing_accuracy_rf, testing_accuracy_dt, testing_accuracy_nb ]\n",
    "\n",
    "x =np.arange(len(labels))\n",
    "\n",
    "plt.bar(x-0.2, training_accuracy, 0.4, label='Training Accuracy')\n",
    "plt.bar(x+0.2, testing_accuracy, 0.4, label='Testing Accuracy')\n",
    "\n",
    "\n",
    "plt.xticks(x,labels)\n",
    "plt.xlabel(\"Models\")\n",
    "plt.ylabel(\"Accuracy\")\n",
    "plt.title(\"Accuracy Comparison of Different Models\")\n",
    "plt.legend()\n",
    "plt.show()\n"
   ]
  },
  {
   "cell_type": "markdown",
   "id": "4681d4f3",
   "metadata": {},
   "source": [
    "\n",
    "# Results"
   ]
  },
  {
   "cell_type": "code",
   "execution_count": 50,
   "id": "d908fc57",
   "metadata": {},
   "outputs": [
    {
     "data": {
      "image/png": "[encoded data removed]",
      "text/plain": [
       "<Figure size 800x800 with 1 Axes>"
      ]
     },
     "metadata": {},
     "output_type": "display_data"
    }
   ],
   "source": [
    "import numpy as np\n",
    "import matplotlib.pyplot as plt\n",
    "\n",
    "\n",
    "\n",
    "labels = ['Logistic Regression', 'Random Forest', 'Decision Tree', 'Naive Bayes']\n",
    "combined_accuracy = [\n",
    "    training_accuracy_lr + testing_accuracy_lr,\n",
    "    training_accuracy_rf + testing_accuracy_rf,\n",
    "    training_accuracy_dt + testing_accuracy_dt,\n",
    "    training_accuracy_nb + testing_accuracy_nb\n",
    "]\n",
    "\n",
    "plt.figure(figsize=(8, 8))\n",
    "plt.pie(combined_accuracy, labels=labels, autopct='%1.2f%%', startangle=140, colors=['skyblue', 'salmon', 'lightgreen', 'yellow'])\n",
    "plt.title('Combined Training and Testing Accuracy')\n",
    "plt.show()\n"
   ]
  },
  {
   "cell_type": "code",
   "execution_count": 54,
   "id": "b41ec950",
   "metadata": {},
   "outputs": [
    {
     "name": "stdout",
     "output_type": "stream",
     "text": [
      "Logistic Regression (combined accuracies):  79.12944269560171\n",
      "Random Forest (combined accuracies):  99.97691820691838\n",
      "Decision Tree (combined accuracies):  99.97351089460633\n",
      "Naive bayes (combined accuracies):  99.4506533246575\n"
     ]
    }
   ],
   "source": [
    "#combined accuries\n",
    "logistic_regression_acc=training_accuracy_lr + testing_accuracy_lr\n",
    "lr_acc=logistic_regression_acc/2*100\n",
    "print(\"Logistic Regression (combined accuracies): \", lr_acc)\n",
    "\n",
    "random_forest_acc=training_accuracy_rf + testing_accuracy_rf\n",
    "rf_acc=random_forest_acc/2*100\n",
    "print(\"Random Forest (combined accuracies): \", rf_acc)\n",
    "\n",
    "decision_tree_acc=training_accuracy_dt + testing_accuracy_dt\n",
    "dt_acc=decision_tree_acc/2*100\n",
    "print(\"Decision Tree (combined accuracies): \", dt_acc)\n",
    "\n",
    "naive_bayes_acc=training_accuracy_nb + testing_accuracy_nb\n",
    "nb_acc=naive_bayes_acc/2*100\n",
    "print(\"Naive bayes (combined accuracies): \", nb_acc)"
   ]
  },
  {
   "cell_type": "markdown",
   "id": "b97ded20",
   "metadata": {},
   "source": [
    "# Conclusion"
   ]
  },
  {
   "cell_type": "markdown",
   "id": "785e0698",
   "metadata": {},
   "source": [
    "The main objective is to find the most suitable model for credit card fraud detection using machine learning techniques. The accuracies of four models were found and compared. The best model in terms of accuracy is Random Forest, which scored 99.976%. By using this model,  we can reduce the amount of credit card fraud."
   ]
  }
 ],
 "metadata": {
  "kernelspec": {
   "display_name": "Python 3 (ipykernel)",
   "language": "python",
   "name": "python3"
  },
  "language_info": {
   "codemirror_mode": {
    "name": "ipython",
    "version": 3
   },
   "file_extension": ".py",
   "mimetype": "text/x-python",
   "name": "python",
   "nbconvert_exporter": "python",
   "pygments_lexer": "ipython3",
   "version": "3.11.5"
  }
 },
 "nbformat": 4,
 "nbformat_minor": 5
}
